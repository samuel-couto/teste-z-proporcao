{
 "cells": [
  {
   "cell_type": "markdown",
   "id": "af8f37e8",
   "metadata": {},
   "source": [
    "### Importando bibliotecas"
   ]
  },
  {
   "cell_type": "code",
   "execution_count": 168,
   "id": "df856680",
   "metadata": {},
   "outputs": [],
   "source": [
    "import pandas as pd\n",
    "import numpy as np\n",
    "import scipy.stats as stats\n",
    "import statsmodels.api as sm # teste z"
   ]
  },
  {
   "cell_type": "markdown",
   "id": "d192c868",
   "metadata": {},
   "source": [
    "### Carregando dataset"
   ]
  },
  {
   "cell_type": "code",
   "execution_count": 173,
   "id": "a04e4590",
   "metadata": {},
   "outputs": [
    {
     "data": {
      "text/html": [
       "<div>\n",
       "<style scoped>\n",
       "    .dataframe tbody tr th:only-of-type {\n",
       "        vertical-align: middle;\n",
       "    }\n",
       "\n",
       "    .dataframe tbody tr th {\n",
       "        vertical-align: top;\n",
       "    }\n",
       "\n",
       "    .dataframe thead th {\n",
       "        text-align: right;\n",
       "    }\n",
       "</style>\n",
       "<table border=\"1\" class=\"dataframe\">\n",
       "  <thead>\n",
       "    <tr style=\"text-align: right;\">\n",
       "      <th></th>\n",
       "      <th>user_id</th>\n",
       "      <th>timestamp</th>\n",
       "      <th>group</th>\n",
       "      <th>landing_page</th>\n",
       "      <th>converted</th>\n",
       "    </tr>\n",
       "  </thead>\n",
       "  <tbody>\n",
       "    <tr>\n",
       "      <th>0</th>\n",
       "      <td>851104</td>\n",
       "      <td>2017-01-21 22:11:48.556739</td>\n",
       "      <td>control</td>\n",
       "      <td>old_page</td>\n",
       "      <td>1</td>\n",
       "    </tr>\n",
       "    <tr>\n",
       "      <th>1</th>\n",
       "      <td>804228</td>\n",
       "      <td>2017-01-12 08:01:45.159739</td>\n",
       "      <td>control</td>\n",
       "      <td>old_page</td>\n",
       "      <td>1</td>\n",
       "    </tr>\n",
       "    <tr>\n",
       "      <th>2</th>\n",
       "      <td>661590</td>\n",
       "      <td>2017-01-11 16:55:06.154213</td>\n",
       "      <td>treatment</td>\n",
       "      <td>new_page</td>\n",
       "      <td>1</td>\n",
       "    </tr>\n",
       "    <tr>\n",
       "      <th>3</th>\n",
       "      <td>853541</td>\n",
       "      <td>2017-01-08 18:28:03.143765</td>\n",
       "      <td>treatment</td>\n",
       "      <td>new_page</td>\n",
       "      <td>1</td>\n",
       "    </tr>\n",
       "    <tr>\n",
       "      <th>4</th>\n",
       "      <td>864975</td>\n",
       "      <td>2017-01-21 01:52:26.210827</td>\n",
       "      <td>treatment</td>\n",
       "      <td>new_page</td>\n",
       "      <td>1</td>\n",
       "    </tr>\n",
       "  </tbody>\n",
       "</table>\n",
       "</div>"
      ],
      "text/plain": [
       "   user_id                   timestamp      group landing_page  converted\n",
       "0   851104  2017-01-21 22:11:48.556739    control     old_page          1\n",
       "1   804228  2017-01-12 08:01:45.159739    control     old_page          1\n",
       "2   661590  2017-01-11 16:55:06.154213  treatment     new_page          1\n",
       "3   853541  2017-01-08 18:28:03.143765  treatment     new_page          1\n",
       "4   864975  2017-01-21 01:52:26.210827  treatment     new_page          1"
      ]
     },
     "execution_count": 173,
     "metadata": {},
     "output_type": "execute_result"
    }
   ],
   "source": [
    "df = pd.read_csv('ab_data.csv', sep =';')\n",
    "\n",
    "df.head()"
   ]
  },
  {
   "cell_type": "code",
   "execution_count": 174,
   "id": "fe4983e0",
   "metadata": {},
   "outputs": [
    {
     "data": {
      "text/plain": [
       "(294478, 5)"
      ]
     },
     "execution_count": 174,
     "metadata": {},
     "output_type": "execute_result"
    }
   ],
   "source": [
    "df.shape"
   ]
  },
  {
   "cell_type": "markdown",
   "id": "3c6346ef",
   "metadata": {},
   "source": [
    "### Dicionário de dados\n",
    "\n",
    "* **user_id**: Id do usuário da nossa amostra\n",
    "* **timestamp**: Data/hora da coleta\n",
    "* **group**: Identifica o grupo que cada usuário foi atribuído aleatóriamente\n",
    "* **landing_page**: Identifica qual página do site o usuário acessou\n",
    "* **converted**: Identifica se o usuário teve conversão de vendas ou não (0: Não e 1: Sim)"
   ]
  },
  {
   "cell_type": "markdown",
   "id": "ed192c8a",
   "metadata": {},
   "source": [
    "### Pergunta: Há alguma relação entre o novo e o antigo visual do site que influencie na Taxa de Conversão ?\n",
    "\n",
    "Este é um problema clássico de teste de hipótese, ou teste A/B. O objetivo é entender se com o novo visual ou com novo layout do site, houve diferença significativa na taxa de conversão.\n",
    "\n",
    "Identificamos porém, que nossos dados são categóricos, mesmo a coluna converted sendo visualmente numérica, ela representa uma categoria. Vamos tratar nossos dados e em seguida realizar o Teste de proporção ( Teste Z )."
   ]
  },
  {
   "cell_type": "markdown",
   "id": "df04ae31",
   "metadata": {},
   "source": [
    "### Tratamento de dados"
   ]
  },
  {
   "cell_type": "code",
   "execution_count": 175,
   "id": "bfc26213",
   "metadata": {},
   "outputs": [],
   "source": [
    "# Removendo a coluna timestamp, pois não será necessária para o teste\n",
    "\n",
    "df = df.drop('timestamp', axis = 1)"
   ]
  },
  {
   "cell_type": "code",
   "execution_count": 176,
   "id": "367a2913",
   "metadata": {},
   "outputs": [
    {
     "data": {
      "text/html": [
       "<div>\n",
       "<style scoped>\n",
       "    .dataframe tbody tr th:only-of-type {\n",
       "        vertical-align: middle;\n",
       "    }\n",
       "\n",
       "    .dataframe tbody tr th {\n",
       "        vertical-align: top;\n",
       "    }\n",
       "\n",
       "    .dataframe thead th {\n",
       "        text-align: right;\n",
       "    }\n",
       "</style>\n",
       "<table border=\"1\" class=\"dataframe\">\n",
       "  <thead>\n",
       "    <tr style=\"text-align: right;\">\n",
       "      <th></th>\n",
       "      <th>user_id</th>\n",
       "      <th>group</th>\n",
       "      <th>landing_page</th>\n",
       "      <th>converted</th>\n",
       "    </tr>\n",
       "  </thead>\n",
       "  <tbody>\n",
       "    <tr>\n",
       "      <th>0</th>\n",
       "      <td>851104</td>\n",
       "      <td>control</td>\n",
       "      <td>old_page</td>\n",
       "      <td>1</td>\n",
       "    </tr>\n",
       "    <tr>\n",
       "      <th>1</th>\n",
       "      <td>804228</td>\n",
       "      <td>control</td>\n",
       "      <td>old_page</td>\n",
       "      <td>1</td>\n",
       "    </tr>\n",
       "    <tr>\n",
       "      <th>2</th>\n",
       "      <td>661590</td>\n",
       "      <td>treatment</td>\n",
       "      <td>new_page</td>\n",
       "      <td>1</td>\n",
       "    </tr>\n",
       "    <tr>\n",
       "      <th>3</th>\n",
       "      <td>853541</td>\n",
       "      <td>treatment</td>\n",
       "      <td>new_page</td>\n",
       "      <td>1</td>\n",
       "    </tr>\n",
       "    <tr>\n",
       "      <th>4</th>\n",
       "      <td>864975</td>\n",
       "      <td>treatment</td>\n",
       "      <td>new_page</td>\n",
       "      <td>1</td>\n",
       "    </tr>\n",
       "  </tbody>\n",
       "</table>\n",
       "</div>"
      ],
      "text/plain": [
       "   user_id      group landing_page  converted\n",
       "0   851104    control     old_page          1\n",
       "1   804228    control     old_page          1\n",
       "2   661590  treatment     new_page          1\n",
       "3   853541  treatment     new_page          1\n",
       "4   864975  treatment     new_page          1"
      ]
     },
     "execution_count": 176,
     "metadata": {},
     "output_type": "execute_result"
    }
   ],
   "source": [
    "df.head()"
   ]
  },
  {
   "cell_type": "markdown",
   "id": "d17d6b25",
   "metadata": {},
   "source": [
    "#### Identificando se há valores nulos"
   ]
  },
  {
   "cell_type": "code",
   "execution_count": 177,
   "id": "73ecd9b3",
   "metadata": {},
   "outputs": [
    {
     "data": {
      "text/plain": [
       "user_id         0\n",
       "group           0\n",
       "landing_page    0\n",
       "converted       0\n",
       "dtype: int64"
      ]
     },
     "execution_count": 177,
     "metadata": {},
     "output_type": "execute_result"
    }
   ],
   "source": [
    "df.isnull().sum()"
   ]
  },
  {
   "cell_type": "markdown",
   "id": "fbcef7a9",
   "metadata": {},
   "source": [
    "#### Identificando se há valores duplicados\n",
    "\n",
    "Devemos remover valores duplicados em nosso dataset, pois isso fere uma das premissas, que é a premissa de **Independências**. Ela nos diz que, valores observados de uma categoria não devem estar relacionados ou dependentes dos valores observados em outra categoria."
   ]
  },
  {
   "cell_type": "code",
   "execution_count": 178,
   "id": "d8b63cf2",
   "metadata": {},
   "outputs": [
    {
     "data": {
      "text/plain": [
       "False    294476\n",
       "True          2\n",
       "Name: count, dtype: int64"
      ]
     },
     "execution_count": 178,
     "metadata": {},
     "output_type": "execute_result"
    }
   ],
   "source": [
    "df_duplicados = df.duplicated()\n",
    "df_duplicados.value_counts()"
   ]
  },
  {
   "cell_type": "code",
   "execution_count": 179,
   "id": "c98777f0",
   "metadata": {},
   "outputs": [],
   "source": [
    "df_v2 = df.drop_duplicates()"
   ]
  },
  {
   "cell_type": "code",
   "execution_count": 180,
   "id": "514f7c12",
   "metadata": {},
   "outputs": [
    {
     "data": {
      "text/plain": [
       "(294476, 4)"
      ]
     },
     "execution_count": 180,
     "metadata": {},
     "output_type": "execute_result"
    }
   ],
   "source": [
    "df_v2.shape"
   ]
  },
  {
   "cell_type": "markdown",
   "id": "6b81ba96",
   "metadata": {},
   "source": [
    "### Definindo nossa Hipótese Nula e Hipótese Alternativa\n",
    "\n",
    "#### Há alguma relação entre o novo e o antigo visual do site que influencie na Taxa de Conversão ?\n",
    "\n",
    "\n",
    "**Hipóteses:**\n",
    "\n",
    "* H0 ( Hipotese Nula ): Não há relação entre o novo e o antigo visual do site que influencie na taxa de conversão.\n",
    "* H1 ( Hipótese Alternativa ): Há relação entre o novo e o antigo visual do site que influencie na taxa de conversão.\n",
    "\n",
    "Levaremos em consideração um p-value de 0.05, ou seja:\n",
    "\n",
    "* Caso p-value < 0.05 então rejeitamos H0, caso contrário falhamos em rejeitá-la"
   ]
  },
  {
   "cell_type": "markdown",
   "id": "b86a18b5",
   "metadata": {},
   "source": [
    "### Aplicando teste de hipótese\n",
    "\n",
    "Aplicaremos o teste z"
   ]
  },
  {
   "cell_type": "code",
   "execution_count": 181,
   "id": "90725c94",
   "metadata": {},
   "outputs": [],
   "source": [
    "# Separando grupo de treatment\n",
    "group_treatment = df_v2[(df_v2['group'] == 'treatment')]\n",
    "\n",
    "# Separando grupo de control\n",
    "group_control = df_v2[(df_v2['group'] == 'control')]"
   ]
  },
  {
   "cell_type": "code",
   "execution_count": 182,
   "id": "14156f31",
   "metadata": {},
   "outputs": [
    {
     "data": {
      "text/html": [
       "<div>\n",
       "<style scoped>\n",
       "    .dataframe tbody tr th:only-of-type {\n",
       "        vertical-align: middle;\n",
       "    }\n",
       "\n",
       "    .dataframe tbody tr th {\n",
       "        vertical-align: top;\n",
       "    }\n",
       "\n",
       "    .dataframe thead th {\n",
       "        text-align: right;\n",
       "    }\n",
       "</style>\n",
       "<table border=\"1\" class=\"dataframe\">\n",
       "  <thead>\n",
       "    <tr style=\"text-align: right;\">\n",
       "      <th></th>\n",
       "      <th>user_id</th>\n",
       "      <th>group</th>\n",
       "      <th>landing_page</th>\n",
       "      <th>converted</th>\n",
       "    </tr>\n",
       "  </thead>\n",
       "  <tbody>\n",
       "    <tr>\n",
       "      <th>193092</th>\n",
       "      <td>870309</td>\n",
       "      <td>treatment</td>\n",
       "      <td>new_page</td>\n",
       "      <td>1</td>\n",
       "    </tr>\n",
       "    <tr>\n",
       "      <th>217427</th>\n",
       "      <td>716977</td>\n",
       "      <td>treatment</td>\n",
       "      <td>new_page</td>\n",
       "      <td>0</td>\n",
       "    </tr>\n",
       "    <tr>\n",
       "      <th>249024</th>\n",
       "      <td>779329</td>\n",
       "      <td>treatment</td>\n",
       "      <td>new_page</td>\n",
       "      <td>1</td>\n",
       "    </tr>\n",
       "    <tr>\n",
       "      <th>42242</th>\n",
       "      <td>778707</td>\n",
       "      <td>treatment</td>\n",
       "      <td>new_page</td>\n",
       "      <td>0</td>\n",
       "    </tr>\n",
       "    <tr>\n",
       "      <th>8886</th>\n",
       "      <td>905086</td>\n",
       "      <td>treatment</td>\n",
       "      <td>new_page</td>\n",
       "      <td>0</td>\n",
       "    </tr>\n",
       "  </tbody>\n",
       "</table>\n",
       "</div>"
      ],
      "text/plain": [
       "        user_id      group landing_page  converted\n",
       "193092   870309  treatment     new_page          1\n",
       "217427   716977  treatment     new_page          0\n",
       "249024   779329  treatment     new_page          1\n",
       "42242    778707  treatment     new_page          0\n",
       "8886     905086  treatment     new_page          0"
      ]
     },
     "execution_count": 182,
     "metadata": {},
     "output_type": "execute_result"
    }
   ],
   "source": [
    "group_treatment.sample(5)"
   ]
  },
  {
   "cell_type": "code",
   "execution_count": 183,
   "id": "66167f65",
   "metadata": {},
   "outputs": [
    {
     "data": {
      "text/html": [
       "<div>\n",
       "<style scoped>\n",
       "    .dataframe tbody tr th:only-of-type {\n",
       "        vertical-align: middle;\n",
       "    }\n",
       "\n",
       "    .dataframe tbody tr th {\n",
       "        vertical-align: top;\n",
       "    }\n",
       "\n",
       "    .dataframe thead th {\n",
       "        text-align: right;\n",
       "    }\n",
       "</style>\n",
       "<table border=\"1\" class=\"dataframe\">\n",
       "  <thead>\n",
       "    <tr style=\"text-align: right;\">\n",
       "      <th></th>\n",
       "      <th>user_id</th>\n",
       "      <th>group</th>\n",
       "      <th>landing_page</th>\n",
       "      <th>converted</th>\n",
       "    </tr>\n",
       "  </thead>\n",
       "  <tbody>\n",
       "    <tr>\n",
       "      <th>77568</th>\n",
       "      <td>651585</td>\n",
       "      <td>control</td>\n",
       "      <td>old_page</td>\n",
       "      <td>1</td>\n",
       "    </tr>\n",
       "    <tr>\n",
       "      <th>63586</th>\n",
       "      <td>920529</td>\n",
       "      <td>control</td>\n",
       "      <td>new_page</td>\n",
       "      <td>0</td>\n",
       "    </tr>\n",
       "    <tr>\n",
       "      <th>160786</th>\n",
       "      <td>897060</td>\n",
       "      <td>control</td>\n",
       "      <td>old_page</td>\n",
       "      <td>0</td>\n",
       "    </tr>\n",
       "    <tr>\n",
       "      <th>122532</th>\n",
       "      <td>801281</td>\n",
       "      <td>control</td>\n",
       "      <td>old_page</td>\n",
       "      <td>0</td>\n",
       "    </tr>\n",
       "    <tr>\n",
       "      <th>267158</th>\n",
       "      <td>781755</td>\n",
       "      <td>control</td>\n",
       "      <td>old_page</td>\n",
       "      <td>0</td>\n",
       "    </tr>\n",
       "  </tbody>\n",
       "</table>\n",
       "</div>"
      ],
      "text/plain": [
       "        user_id    group landing_page  converted\n",
       "77568    651585  control     old_page          1\n",
       "63586    920529  control     new_page          0\n",
       "160786   897060  control     old_page          0\n",
       "122532   801281  control     old_page          0\n",
       "267158   781755  control     old_page          0"
      ]
     },
     "execution_count": 183,
     "metadata": {},
     "output_type": "execute_result"
    }
   ],
   "source": [
    "group_control.sample(5)"
   ]
  },
  {
   "cell_type": "code",
   "execution_count": 184,
   "id": "ecd44683",
   "metadata": {},
   "outputs": [],
   "source": [
    "# Criando uma lista onde teremos a quantidade de conversão sucedidas em cada grupo\n",
    "\n",
    "# grupo treatment e control com suas respectivas quantidades de converões\n",
    "converted_success = [group_treatment['converted'].sum(), group_control['converted'].sum()]\n",
    "\n",
    "# criando lista com o total de observações de cada grupo independente se teve conversões sucessidas ou não\n",
    "total_observations = [len(group_treatment), len(group_control)]"
   ]
  },
  {
   "cell_type": "code",
   "execution_count": 185,
   "id": "f55748ac",
   "metadata": {},
   "outputs": [
    {
     "data": {
      "text/plain": [
       "[18765, 17640]"
      ]
     },
     "execution_count": 185,
     "metadata": {},
     "output_type": "execute_result"
    }
   ],
   "source": [
    "converted_success"
   ]
  },
  {
   "cell_type": "code",
   "execution_count": 186,
   "id": "2f1b45d9",
   "metadata": {},
   "outputs": [
    {
     "data": {
      "text/plain": [
       "[147932, 146544]"
      ]
     },
     "execution_count": 186,
     "metadata": {},
     "output_type": "execute_result"
    }
   ],
   "source": [
    "total_observations"
   ]
  },
  {
   "cell_type": "code",
   "execution_count": 187,
   "id": "12386e32",
   "metadata": {},
   "outputs": [],
   "source": [
    "z_test, p_value = sm.stats.proportions_ztest(converted_success, total_observations)"
   ]
  },
  {
   "cell_type": "code",
   "execution_count": 188,
   "id": "019c1c8d",
   "metadata": {},
   "outputs": [
    {
     "data": {
      "text/plain": [
       "9.410978098521575e-08"
      ]
     },
     "execution_count": 188,
     "metadata": {},
     "output_type": "execute_result"
    }
   ],
   "source": [
    "p_value"
   ]
  },
  {
   "cell_type": "markdown",
   "id": "1e97d83b",
   "metadata": {},
   "source": [
    "### Calculando a proporção média para comparação"
   ]
  },
  {
   "cell_type": "code",
   "execution_count": 208,
   "id": "03b3cd57",
   "metadata": {},
   "outputs": [],
   "source": [
    "prop_treatment = df_v2[df_v2['group'] == 'treatment']['converted'].mean()\n",
    "\n",
    "prop_control = df_v2[df_v2['group'] == 'control']['converted'].mean()"
   ]
  },
  {
   "cell_type": "code",
   "execution_count": 209,
   "id": "7fcb571e",
   "metadata": {},
   "outputs": [
    {
     "data": {
      "text/plain": [
       "0.1268488224319282"
      ]
     },
     "execution_count": 209,
     "metadata": {},
     "output_type": "execute_result"
    }
   ],
   "source": [
    "prop_treatment"
   ]
  },
  {
   "cell_type": "code",
   "execution_count": 210,
   "id": "23bdb930",
   "metadata": {},
   "outputs": [
    {
     "data": {
      "text/plain": [
       "0.12037340320995742"
      ]
     },
     "execution_count": 210,
     "metadata": {},
     "output_type": "execute_result"
    }
   ],
   "source": [
    "prop_control"
   ]
  },
  {
   "cell_type": "code",
   "execution_count": 215,
   "id": "fd75553c",
   "metadata": {},
   "outputs": [
    {
     "name": "stdout",
     "output_type": "stream",
     "text": [
      "Há evidências suficientes para rejeitar a H0.\n",
      "Há diferença estatisticamente significativa entre os grupos que influenciam na taxa de conversão.\n",
      "Grupo com maior influência na taxa de conversão: Treatment\n"
     ]
    }
   ],
   "source": [
    "prop_treatment = df_v2[df_v2['group'] == 'treatment']['converted'].mean()\n",
    "\n",
    "prop_control = df_v2[df_v2['group'] == 'control']['converted'].mean()\n",
    "\n",
    "if p_value > 0.05:\n",
    "    \n",
    "    print('Não há evidências suficientes para rejeitar a H0.')\n",
    "    print('Não há diferença estatisticamente significativa entre os grupos que influenciam na taxa de conversão.')\n",
    "\n",
    "else:\n",
    "    print('Há evidências suficientes para rejeitar a H0.')\n",
    "    print('Há diferença estatisticamente significativa entre os grupos que influenciam na taxa de conversão.')\n",
    "    \n",
    "    if prop_treatment > prop_control:\n",
    "        print('Grupo com maior influência na taxa de conversão: Treatment')\n",
    "   \n",
    "    elif prop_treatment < prop_control:\n",
    "        print('Grupo com maior influência na taxa de conversão: Control')\n",
    "   \n",
    "    else:\n",
    "        print('Não foi possível determinar qual grupo teve maior influência na taxa de conversão.')"
   ]
  },
  {
   "cell_type": "markdown",
   "id": "c08a3437",
   "metadata": {},
   "source": [
    "### Conclusão\n",
    "\n",
    "Com o teste realizado, identificamos com um que há uma diferença significativa entre os grupos **Treatment** e **Control** que influenciam na taxa de conversão.\n",
    "\n",
    "Grupo de **Treatment** é o grupo de usuários que acessaram o website com novo layout, que também teve uma maior influência na taxa de conversão."
   ]
  }
 ],
 "metadata": {
  "kernelspec": {
   "display_name": "Python 3 (ipykernel)",
   "language": "python",
   "name": "python3"
  },
  "language_info": {
   "codemirror_mode": {
    "name": "ipython",
    "version": 3
   },
   "file_extension": ".py",
   "mimetype": "text/x-python",
   "name": "python",
   "nbconvert_exporter": "python",
   "pygments_lexer": "ipython3",
   "version": "3.10.9"
  }
 },
 "nbformat": 4,
 "nbformat_minor": 5
}
